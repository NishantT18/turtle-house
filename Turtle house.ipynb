{
 "cells": [
  {
   "cell_type": "code",
   "execution_count": 1,
   "metadata": {},
   "outputs": [],
   "source": [
    "import turtle \n",
    "import math"
   ]
  },
  {
   "cell_type": "code",
   "execution_count": 2,
   "metadata": {},
   "outputs": [],
   "source": [
    "screen = turtle.Screen()\n",
    "screen.bgcolor(\"skyblue\")"
   ]
  },
  {
   "cell_type": "code",
   "execution_count": 3,
   "metadata": {},
   "outputs": [],
   "source": [
    "george = turtle.Turtle()\n",
    "george.color(\"black\")\n",
    "george.shape(\"turtle\")\n",
    "george.speed(1)"
   ]
  },
  {
   "cell_type": "code",
   "execution_count": 4,
   "metadata": {},
   "outputs": [],
   "source": [
    "def drawRact(t, width, height, color):\n",
    "    t.fillcolor(color)\n",
    "    t.begin_fill()\n",
    "    t.forward(width)\n",
    "    t.left(90)\n",
    "    t.forward(height)\n",
    "    t.left(90)\n",
    "    t.end_fill()"
   ]
  },
  {
   "cell_type": "code",
   "execution_count": 5,
   "metadata": {},
   "outputs": [],
   "source": [
    "def drawTri(t, length, color):\n",
    "    t.fillcolor(color)\n",
    "    t.begin_fill()\n",
    "    t.forward(length)\n",
    "    t.left(135)\n",
    "    t.forward(length/math.sqrt(2))\n",
    "    t.left(135)\n",
    "    t.end_fill()"
   ]
  },
  {
   "cell_type": "code",
   "execution_count": 6,
   "metadata": {},
   "outputs": [],
   "source": [
    "def drawPara(t, width, height, color):\n",
    "    t.fillcolor(color)\n",
    "    t.begin_fill()\n",
    "    t.left(30)\n",
    "    t.forward(width)\n",
    "    t.left(60)\n",
    "    t.forward(height)\n",
    "    t.left(120)\n",
    "    t.forward(width)\n",
    "    t.left(60)\n",
    "    t.forward(height)\n",
    "    t.left(90)\n",
    "    t.end_fill()\n",
    "    "
   ]
  },
  {
   "cell_type": "code",
   "execution_count": 7,
   "metadata": {},
   "outputs": [],
   "source": [
    "def drawFourRays(t, length, radius ):\n",
    "    for i in range(4):\n",
    "        t.penup()\n",
    "        t.forward(radius)\n",
    "        t.pendown()\n",
    "        t.forward(length)\n",
    "        t.penup()\n",
    "        t.backward(length + radius)\n",
    "        t.left(90)"
   ]
  },
  {
   "cell_type": "code",
   "execution_count": 8,
   "metadata": {},
   "outputs": [],
   "source": [
    "george.penup()\n",
    "george.goto(-150, -120)\n",
    "george.pendown()\n",
    "drawRact(george, 100, 110, \"blue\")"
   ]
  },
  {
   "cell_type": "code",
   "execution_count": 9,
   "metadata": {},
   "outputs": [],
   "source": [
    "george.penup()\n",
    "george.goto(-120, -120)\n",
    "george.pendown()\n",
    "drawRact(george, 40, 60, \"lightgreen\")"
   ]
  },
  {
   "cell_type": "code",
   "execution_count": 10,
   "metadata": {},
   "outputs": [],
   "source": [
    "# Front roof \n",
    "george.penup()\n",
    "george.goto(-120, -120)\n",
    "george.pendown()\n",
    "drawTri(george, 100, \"magenta\")"
   ]
  },
  {
   "cell_type": "code",
   "execution_count": 11,
   "metadata": {},
   "outputs": [],
   "source": [
    "# side of house \n",
    "george.penup()\n",
    "george.goto(-50, -120)\n",
    "george.pendown()\n",
    "drawPara(george, 60, 110, \"yellow\")"
   ]
  },
  {
   "cell_type": "code",
   "execution_count": 12,
   "metadata": {},
   "outputs": [],
   "source": [
    "# windows\n",
    "george.penup()\n",
    "george.goto(-30, -60)\n",
    "george.pendown()\n",
    "drawPara(george, 20, 30, \"brown\")"
   ]
  },
  {
   "cell_type": "code",
   "execution_count": 13,
   "metadata": {},
   "outputs": [],
   "source": [
    "# side roof\n",
    "george.penup()\n",
    "george.goto(-50, -10)\n",
    "george.pendown()\n",
    "george.fillcolor(\"orange\")\n",
    "george.begin_fill()\n",
    "george.left(30)\n",
    "george.forward(60)\n",
    "george.left(105)\n",
    "george.forward(100/math.sqrt(2))\n",
    "george.left(75)\n",
    "george.forward(60)\n",
    "george.left(105)\n",
    "george.forward(100/math.sqrt(2))\n",
    "george.left(45)\n",
    "george.end_fill()"
   ]
  },
  {
   "cell_type": "code",
   "execution_count": 14,
   "metadata": {},
   "outputs": [],
   "source": [
    "# Tree base\n",
    "george.penup()\n",
    "george.goto(-100, -120)\n",
    "george.pendown()\n",
    "drawRact(george, 20, 40, \"brown\")"
   ]
  },
  {
   "cell_type": "code",
   "execution_count": 15,
   "metadata": {},
   "outputs": [],
   "source": [
    "# Tree top\n",
    "george.penup()\n",
    "george.goto(65, -90)\n",
    "george.pendown()\n",
    "drawTri(george, 90, \"lightgreen\")\n",
    "george.penup()\n",
    "george.goto(70, -45)\n",
    "george.pendown()\n",
    "drawTri(george, 80, \"lightgreen\")\n",
    "george.penup()\n",
    "george.goto(75, -5)\n",
    "george.pendown()\n",
    "drawTri(george, 70, \"lightgreen\")"
   ]
  },
  {
   "cell_type": "code",
   "execution_count": 16,
   "metadata": {},
   "outputs": [],
   "source": [
    "# sun\n",
    "george.penup()\n",
    "george.goto(55, 110)\n",
    "george.fillcolor(\"yellow\")\n",
    "george.pendown()\n",
    "george.begin_fill()\n",
    "george.circle(24)\n",
    "george.end_fill()"
   ]
  },
  {
   "cell_type": "code",
   "execution_count": 17,
   "metadata": {},
   "outputs": [],
   "source": [
    "# sun rays\n",
    "george.penup()\n",
    "george.goto(55, 134)\n",
    "george.pendown()\n",
    "drawFourRays(george, 25, 24)\n",
    "george.right(45)\n",
    "drawFourRays(george, 15, 24)\n",
    "george.left(45)"
   ]
  },
  {
   "cell_type": "code",
   "execution_count": 18,
   "metadata": {},
   "outputs": [],
   "source": [
    "# Put down some labels\n",
    "george.color(\"black\")\n",
    "george.penup()\n",
    "george.goto(-150, 70)\n",
    "george.pendown()\n",
    "george.write(\"house\", \"14pt bold\")\n",
    "george.penup()\n",
    "george.goto(-150, 150)\n",
    "george.pendown()\n",
    "george.write(\"tree\", \"14pt bold\")\n",
    "george.penup()\n",
    "george.goto(130, 150)\n",
    "george.pendown()\n",
    "george.write(\"sun\", \"14pt bold\")"
   ]
  },
  {
   "cell_type": "code",
   "execution_count": 19,
   "metadata": {},
   "outputs": [],
   "source": [
    "# Bring the turtle down from the front door\n",
    "george.penup()\n",
    "george.goto(-100, -150)\n",
    "george.left(90)"
   ]
  },
  {
   "cell_type": "code",
   "execution_count": null,
   "metadata": {},
   "outputs": [],
   "source": []
  }
 ],
 "metadata": {
  "kernelspec": {
   "display_name": "Python 3",
   "language": "python",
   "name": "python3"
  },
  "language_info": {
   "codemirror_mode": {
    "name": "ipython",
    "version": 3
   },
   "file_extension": ".py",
   "mimetype": "text/x-python",
   "name": "python",
   "nbconvert_exporter": "python",
   "pygments_lexer": "ipython3",
   "version": "3.7.6"
  }
 },
 "nbformat": 4,
 "nbformat_minor": 4
}
